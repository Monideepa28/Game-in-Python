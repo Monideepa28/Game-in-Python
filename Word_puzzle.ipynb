{
  "nbformat": 4,
  "nbformat_minor": 0,
  "metadata": {
    "colab": {
      "provenance": [],
      "collapsed_sections": [],
      "authorship_tag": "ABX9TyMZP8zjmftOeqWJeg1v90vi",
      "include_colab_link": true
    },
    "kernelspec": {
      "name": "python3",
      "display_name": "Python 3"
    },
    "language_info": {
      "name": "python"
    }
  },
  "cells": [
    {
      "cell_type": "markdown",
      "metadata": {
        "id": "view-in-github",
        "colab_type": "text"
      },
      "source": [
        "<a href=\"https://colab.research.google.com/github/Monideepa28/Game-in-Python/blob/main/Word_puzzle.ipynb\" target=\"_parent\"><img src=\"https://colab.research.google.com/assets/colab-badge.svg\" alt=\"Open In Colab\"/></a>"
      ]
    },
    {
      "cell_type": "code",
      "execution_count": 4,
      "metadata": {
        "colab": {
          "base_uri": "https://localhost:8080/"
        },
        "id": "hdNJIzqZxhjN",
        "outputId": "a75ed0af-37ec-448e-a7ee-d4ff71b73107"
      },
      "outputs": [
        {
          "output_type": "stream",
          "name": "stdout",
          "text": [
            "wanda\n",
            "~~~~~~~~~~~~~~~~~~~~~~~~~~~~~~\n",
            "~~~ Avengers Jumble Bumble~~~~\n",
            "the word is awnda\n",
            "enter your guessed word: dawna\n",
            "Incorrect Guess!!\n",
            "Remaning chances are: 2\n",
            "the word is awnda\n",
            "enter your guessed word: waand\n",
            "Incorrect Guess!!\n",
            "Remaning chances are: 1\n",
            "the word is awnda\n",
            "enter your guessed word: wanda\n",
            "Correct Guess!!\n",
            "you won!\n",
            "thank you for playing\n"
          ]
        }
      ],
      "source": [
        "import random \n",
        "words=[\"ironman\",\"thor\",\"hawkeye\",\"wanda\",\"vision\"]\n",
        "word=random.choice(words)\n",
        "print(word)\n",
        "jumble=\"\".join(random.sample(word,len(word)))\n",
        "chances =3\n",
        "print(\"~\"*30)\n",
        "print(\"~~~ Avengers Jumble Bumble~~~~\")\n",
        "while chances!=0:\n",
        "  print(\"the word is\",jumble)\n",
        "  guess=input(\"enter your guessed word: \").lower()\n",
        "  if guess==word:\n",
        "    print(\"Correct Guess!!\")\n",
        "    print(\"you won!\")\n",
        "    break\n",
        "  else:\n",
        "    chances -=1\n",
        "    print(\"Incorrect Guess!!\")\n",
        "    print(\"Remaning chances are:\",chances)\n",
        "else:\n",
        "  print(\"all you chances are exhausted\")\n",
        "  print(\"you lose..\")\n",
        "  print(\"the correct word is \",word)\n",
        "print(\"thank you for playing\")\n",
        "\n"
      ]
    }
  ]
}